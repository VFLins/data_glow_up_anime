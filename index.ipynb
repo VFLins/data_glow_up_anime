{
 "cells": [
  {
   "cell_type": "code",
   "execution_count": 10,
   "id": "2d7ca297-8992-4fde-b975-1b62eac6e35b",
   "metadata": {},
   "outputs": [],
   "source": [
    "import pandas as pd\n",
    "profiles = pd.read_pickle(\"data/profiles.pkl\")"
   ]
  },
  {
   "cell_type": "code",
   "execution_count": 22,
   "id": "6ffc4510-2a83-4722-b37d-ba9c2eecc33b",
   "metadata": {},
   "outputs": [],
   "source": [
    "import matplotlib.pyplot as plt"
   ]
  },
  {
   "cell_type": "markdown",
   "id": "e47222ef-f6c4-4129-8a10-52d9e2fc85ba",
   "metadata": {},
   "source": [
    "# Identificando o perfil de consumo dos otakus"
   ]
  },
  {
   "cell_type": "markdown",
   "id": "19df307b-1790-4fc0-ad1d-3aba0240cc94",
   "metadata": {},
   "source": [
    "## Overview dos perfis\n",
    "\n",
    "*Usando um recorte aleatório de dados cedidos pela [myanimelist.net](https://myanimelist.net/).\n",
    "\n",
    "Cerca de 57% das observações foram removidas por ausência de dados, mas ainda temos uma amostra de mas de 20 mil perfis de usuários."
   ]
  },
  {
   "cell_type": "code",
   "execution_count": 17,
   "id": "31a4076e-c828-4dee-86f4-7c31ecb44c0f",
   "metadata": {},
   "outputs": [
    {
     "data": {
      "text/html": [
       "<div>\n",
       "<style scoped>\n",
       "    .dataframe tbody tr th:only-of-type {\n",
       "        vertical-align: middle;\n",
       "    }\n",
       "\n",
       "    .dataframe tbody tr th {\n",
       "        vertical-align: top;\n",
       "    }\n",
       "\n",
       "    .dataframe thead th {\n",
       "        text-align: right;\n",
       "    }\n",
       "</style>\n",
       "<table border=\"1\" class=\"dataframe\">\n",
       "  <thead>\n",
       "    <tr style=\"text-align: right;\">\n",
       "      <th></th>\n",
       "      <th>gender</th>\n",
       "      <th>link</th>\n",
       "    </tr>\n",
       "  </thead>\n",
       "  <tbody>\n",
       "    <tr>\n",
       "      <th>0</th>\n",
       "      <td>Female</td>\n",
       "      <td>5502</td>\n",
       "    </tr>\n",
       "    <tr>\n",
       "      <th>1</th>\n",
       "      <td>Male</td>\n",
       "      <td>13578</td>\n",
       "    </tr>\n",
       "    <tr>\n",
       "      <th>2</th>\n",
       "      <td>Non-Binary</td>\n",
       "      <td>243</td>\n",
       "    </tr>\n",
       "  </tbody>\n",
       "</table>\n",
       "</div>"
      ],
      "text/plain": [
       "       gender   link\n",
       "0      Female   5502\n",
       "1        Male  13578\n",
       "2  Non-Binary    243"
      ]
     },
     "execution_count": 17,
     "metadata": {},
     "output_type": "execute_result"
    }
   ],
   "source": []
  },
  {
   "cell_type": "code",
   "execution_count": 25,
   "id": "c562291d-0b9e-4912-abe4-215404569458",
   "metadata": {},
   "outputs": [
    {
     "data": {
      "text/plain": [
       "<function matplotlib.pyplot.bar(x: 'float | ArrayLike', height: 'float | ArrayLike', width: 'float | ArrayLike' = 0.8, bottom: 'float | ArrayLike | None' = None, *, align: \"Literal['center', 'edge']\" = 'center', data=None, **kwargs) -> 'BarContainer'>"
      ]
     },
     "execution_count": 25,
     "metadata": {},
     "output_type": "execute_result"
    }
   ],
   "source": [
    "temp = profiles.groupby(\"gender\")[\"link\"].count().reset_index()\n",
    "plt.bar"
   ]
  }
 ],
 "metadata": {
  "kernelspec": {
   "display_name": "Python 3 (ipykernel)",
   "language": "python",
   "name": "python3"
  },
  "language_info": {
   "codemirror_mode": {
    "name": "ipython",
    "version": 3
   },
   "file_extension": ".py",
   "mimetype": "text/x-python",
   "name": "python",
   "nbconvert_exporter": "python",
   "pygments_lexer": "ipython3",
   "version": "3.12.0"
  }
 },
 "nbformat": 4,
 "nbformat_minor": 5
}
