{
 "cells": [
  {
   "cell_type": "code",
   "execution_count": 15,
   "id": "2d7ca297-8992-4fde-b975-1b62eac6e35b",
   "metadata": {
    "editable": true,
    "slideshow": {
     "slide_type": "skip"
    },
    "tags": []
   },
   "outputs": [],
   "source": [
    "import pandas as pd\n",
    "profiles = pd.read_pickle(\"data/profiles.pkl\")"
   ]
  },
  {
   "cell_type": "code",
   "execution_count": 16,
   "id": "6ffc4510-2a83-4722-b37d-ba9c2eecc33b",
   "metadata": {
    "editable": true,
    "slideshow": {
     "slide_type": "skip"
    },
    "tags": []
   },
   "outputs": [],
   "source": [
    "import matplotlib.pyplot as plt"
   ]
  },
  {
   "cell_type": "markdown",
   "id": "e47222ef-f6c4-4129-8a10-52d9e2fc85ba",
   "metadata": {
    "editable": true,
    "slideshow": {
     "slide_type": "slide"
    },
    "tags": []
   },
   "source": [
    "# Identificando o perfil de consumo dos otakus"
   ]
  },
  {
   "cell_type": "markdown",
   "id": "19df307b-1790-4fc0-ad1d-3aba0240cc94",
   "metadata": {
    "editable": true,
    "slideshow": {
     "slide_type": "slide"
    },
    "tags": []
   },
   "source": [
    "## Overview dos perfis\n",
    "\n",
    "*Usando um recorte aleatório de dados cedidos pela [myanimelist.net](https://myanimelist.net/).\n",
    "\n",
    "Cerca de 57% das observações foram removidas por ausência de informações relevantes, mas ainda temos uma amostra de mais de 20 mil perfis de usuários!\n",
    "\n",
    "Algumas das principais características deste público são:"
   ]
  },
  {
   "cell_type": "code",
   "execution_count": 17,
   "id": "0da84e7e-3cd2-4e88-a44d-79e1da347735",
   "metadata": {
    "editable": true,
    "slideshow": {
     "slide_type": "skip"
    },
    "tags": []
   },
   "outputs": [
    {
     "name": "stdout",
     "output_type": "stream",
     "text": [
      "66.5%\n"
     ]
    }
   ],
   "source": [
    "# males percentage\n",
    "profiles_amount = profiles.shape[0]\n",
    "males_amount = (profiles[\"gender\"] == \"Male\").sum()\n",
    "males_percent = print(\"{:.1f}%\".format(males_amount/profiles_amount *100))"
   ]
  },
  {
   "cell_type": "markdown",
   "id": "45790aaf-dc75-48de-9948-60f9cbc9bd9e",
   "metadata": {
    "editable": true,
    "slideshow": {
     "slide_type": "fragment"
    },
    "tags": []
   },
   "source": [
    "### 66,5% são homens"
   ]
  },
  {
   "cell_type": "code",
   "execution_count": 39,
   "id": "9cd2f29c-37c7-42a9-bc25-6fc5b1c5bbfe",
   "metadata": {
    "editable": true,
    "slideshow": {
     "slide_type": "skip"
    },
    "tags": []
   },
   "outputs": [
    {
     "data": {
      "text/plain": [
       "user_age          596024.0\n",
       "animes_watched    123387.0\n",
       "Comedy             57534.0\n",
       "Action             56085.0\n",
       "Drama              51960.0\n",
       "Shounen            36454.0\n",
       "Supernatural       34383.0\n",
       "Romance            32414.0\n",
       "Adventure          31971.0\n",
       "Fantasy            30018.0\n",
       "Sci-Fi             29093.0\n",
       "School             27543.0\n",
       "Mystery            21707.0\n",
       "Slice of Life      21645.0\n",
       "Psychological      18689.0\n",
       "Super Power        16213.0\n",
       "Magic              13227.0\n",
       "Military           12528.0\n",
       "Seinen             11955.0\n",
       "Thriller           11358.0\n",
       "Mecha              11008.0\n",
       "Historical          8506.0\n",
       "Horror              7265.0\n",
       "Shoujo              6739.0\n",
       "Ecchi               5453.0\n",
       "Demons              5371.0\n",
       "Parody              4889.0\n",
       "Police              4740.0\n",
       "Sports              4542.0\n",
       "Music               4262.0\n",
       "Dementia            4225.0\n",
       "Game                4187.0\n",
       "Space               4111.0\n",
       "Harem               3860.0\n",
       "Martial Arts        3615.0\n",
       "Vampire             3444.0\n",
       "Samurai             2774.0\n",
       "Josei               1600.0\n",
       "Shoujo Ai            610.0\n",
       "Shounen Ai           492.0\n",
       "Kids                 472.0\n",
       "Hentai               370.0\n",
       "Cars                 257.0\n",
       "Yaoi                  91.0\n",
       "Yuri                  25.0\n",
       "dtype: float64"
      ]
     },
     "execution_count": 39,
     "metadata": {},
     "output_type": "execute_result"
    }
   ],
   "source": [
    "profiles.sum(numeric_only=True).sort_values(ascending=False)"
   ]
  },
  {
   "cell_type": "markdown",
   "id": "4c4d02a4-24b2-4e9c-9e72-8d24b7c7e862",
   "metadata": {
    "editable": true,
    "slideshow": {
     "slide_type": "fragment"
    },
    "tags": []
   },
   "source": [
    "### O gênero mais popular é comédia"
   ]
  },
  {
   "cell_type": "markdown",
   "id": "ff4a3701-abc5-4ad3-8f94-f0e9dff7d49b",
   "metadata": {
    "editable": true,
    "slideshow": {
     "slide_type": "slide"
    },
    "tags": []
   },
   "source": [
    "## Vamos nos aprofundar mais nos gêneros?"
   ]
  }
 ],
 "metadata": {
  "kernelspec": {
   "display_name": "Python 3 (ipykernel)",
   "language": "python",
   "name": "python3"
  },
  "language_info": {
   "codemirror_mode": {
    "name": "ipython",
    "version": 3
   },
   "file_extension": ".py",
   "mimetype": "text/x-python",
   "name": "python",
   "nbconvert_exporter": "python",
   "pygments_lexer": "ipython3",
   "version": "3.11.5"
  }
 },
 "nbformat": 4,
 "nbformat_minor": 5
}
