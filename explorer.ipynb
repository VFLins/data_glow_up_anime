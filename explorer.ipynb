{
 "cells": [
  {
   "cell_type": "code",
   "execution_count": 57,
   "id": "7ba96789-7e43-4a3c-bd13-4d13bc844f6e",
   "metadata": {},
   "outputs": [],
   "source": [
    "import pandas as pd\n",
    "import numpy as np"
   ]
  },
  {
   "cell_type": "code",
   "execution_count": 58,
   "id": "3e4071e0-0432-4dae-a01d-26c58ba456b7",
   "metadata": {},
   "outputs": [],
   "source": [
    "animes = pd.read_csv(\"data/animes.csv\", index_col=0)\n",
    "profiles = pd.read_csv(\"data/profiles.csv\", index_col=0)\n",
    "#review = pd.read_csv(\"data/review.csv\")"
   ]
  },
  {
   "cell_type": "code",
   "execution_count": 59,
   "id": "129e7ce9-3e38-43e5-9626-8516fa040ccf",
   "metadata": {},
   "outputs": [
    {
     "name": "stdout",
     "output_type": "stream",
     "text": [
      "<class 'pandas.core.frame.DataFrame'>\n",
      "Index: 19311 entries, 28891 to 87\n",
      "Data columns (total 11 columns):\n",
      " #   Column      Non-Null Count  Dtype  \n",
      "---  ------      --------------  -----  \n",
      " 0   title       19311 non-null  object \n",
      " 1   synopsis    18336 non-null  object \n",
      " 2   genre       19311 non-null  object \n",
      " 3   aired       19311 non-null  object \n",
      " 4   episodes    18605 non-null  float64\n",
      " 5   members     19311 non-null  int64  \n",
      " 6   popularity  19311 non-null  int64  \n",
      " 7   ranked      16099 non-null  float64\n",
      " 8   score       18732 non-null  float64\n",
      " 9   img_url     19131 non-null  object \n",
      " 10  link        19311 non-null  object \n",
      "dtypes: float64(3), int64(2), object(6)\n",
      "memory usage: 1.8+ MB\n"
     ]
    }
   ],
   "source": [
    "animes.info()"
   ]
  },
  {
   "cell_type": "code",
   "execution_count": 60,
   "id": "cb118c52-b4ce-4180-ab7b-38586703c26e",
   "metadata": {},
   "outputs": [
    {
     "name": "stdout",
     "output_type": "stream",
     "text": [
      "<class 'pandas.core.frame.DataFrame'>\n",
      "Index: 81727 entries, DesolatePsyche to nyja-chan\n",
      "Data columns (total 4 columns):\n",
      " #   Column           Non-Null Count  Dtype \n",
      "---  ------           --------------  ----- \n",
      " 0   gender           53856 non-null  object\n",
      " 1   birthday         46807 non-null  object\n",
      " 2   favorites_anime  81727 non-null  object\n",
      " 3   link             81727 non-null  object\n",
      "dtypes: object(4)\n",
      "memory usage: 3.1+ MB\n"
     ]
    }
   ],
   "source": [
    "profiles.info()"
   ]
  },
  {
   "cell_type": "markdown",
   "id": "93625f05-c5aa-40df-9c95-b68d9d3cda1f",
   "metadata": {},
   "source": [
    "# Perfis dos usuários"
   ]
  },
  {
   "cell_type": "markdown",
   "id": "7e042a63-31d7-42c0-8f91-ebbb5febeb8a",
   "metadata": {},
   "source": [
    "### Resgatando datas de aniversário\n",
    "\n",
    "O objetivo principal nesta tarefa de *parsing* é preservar a informação idade do usuário, para isto, os *strings* com a informação do ano de nascimento (ou algo que possa ser usado como tal) precisam ser mantidos, todos os outros podem ser descartados."
   ]
  },
  {
   "cell_type": "code",
   "execution_count": 61,
   "id": "aeb64c86-a58b-4c5c-896c-680978371e62",
   "metadata": {},
   "outputs": [],
   "source": [
    "def parse_birth_dates(string):\n",
    "    \n",
    "    if string==np.nan:\n",
    "        return np.nan\n",
    "\n",
    "    # typical cases, people born before 2000\n",
    "    formats = (\n",
    "        # complete information:\n",
    "        \"%b %d, %Y\", \n",
    "        # day missing:\n",
    "        \"%b %Y\", \"%m, %Y\", \n",
    "        # month missing:\n",
    "        \"%d, %Y\",\n",
    "        # day and month missing:\n",
    "        \"%Y\", \"%y\")\n",
    "\n",
    "    for form in formats:\n",
    "        try:\n",
    "            return pd.to_datetime(string, format=form)\n",
    "        except:\n",
    "            continue\n",
    "\n",
    "    # special cases, people born in the 2000s and after\n",
    "    curr_year = str(pd.to_datetime(\"today\").year)\n",
    "    max_valid = int(f\"{curr_year}\"[2:])\n",
    "\n",
    "    # parsing \"%y\", month and day missing (probably \"%d\" being treated as the former)\n",
    "    # leaving uncommented due to low impact on the data\n",
    "    if len(string)==1:\n",
    "        try:\n",
    "            if int(string) < max_valid:\n",
    "                string = f\"20{int(string):02}\"\n",
    "                return pd.to_datetime(string, format=\"%Y\")\n",
    "        except:\n",
    "            pass\n",
    "    # parsing \"%b %y\", day missing (probably \"%b %d\" being treated as the former)\n",
    "    # leaving commented\n",
    "    # else:\n",
    "    #     try:\n",
    "    #         \n",
    "    #         str_elements = string.split(\" \")\n",
    "    #         if int(str_elements[1]) < max_valid:\n",
    "    #             string = f\"{str_elements[0]} 20{int(str_elements[1]):02}\"\n",
    "    #             return pd.to_datetime(string, format=\"%b %Y\")\n",
    "    #     except:\n",
    "    #         pass\n",
    "            \n",
    "    return np.nan"
   ]
  },
  {
   "cell_type": "code",
   "execution_count": 62,
   "id": "53d9cd88-7c3c-40ba-ab96-828cfe10c512",
   "metadata": {},
   "outputs": [
    {
     "name": "stdout",
     "output_type": "stream",
     "text": [
      "Not parsed: \n",
      "[nan, 'Sep 5', 'Oct 6', 'Aug 23', 'Jun 2', 'Jul 17', 'Sep 25', 'Aug 31', 'Mar 19', 'Sep 26', 'Jun 30', 'Apr 10', 'Jun 22', 'Jul 11', 'Apr 12', 'May 14', 'Sep 28', 'Jan 8', 'Jun 15', 'Oct 11', 'Dec 27', 'Jun 1', 'Aug 21', 'Nov 12', 'Oct 20', 'Nov 13', 'Jul 26', 'Nov 25', 'Oct 2', 'Apr 21', 'Jul 23', 'May 26', 'Feb 12', 'Feb 24', 'Oct 16', 'Aug 28', 'Oct 4', 'Dec 8', 'Apr 27', 'Mar 21', 'Oct 19', 'Dec 9', 'Aug 13', 'Dec 7', 'Jan 17', 'May 13', 'Mar 16', 'Jul 4', 'May 9', 'Jun 23', 'Jun 29', 'Mar 26', 'Sep 12', 'Nov 23', 'May 11', 'Apr 6', 'Dec 3', 'Mar', 'Dec 26', 'Oct', 'Jun 19', 'Mar 25', 'Apr 30', 'Nov 10', 'Dec 29', 'Sep 1', 'Aug 30', 'May 31', 'Dec 21', 'Sep 10', 'Mar 7', 'Apr 18', 'Feb 8', 'Nov 14', 'May 23', 'Feb 20', 'Jun 14', 'Jul 18', 'Feb 25', 'Jan 31', 'Jan 14', 'Jun 12', 'Mar 18', 'Aug 17', 'Nov 16', 'Dec 2', 'Sep 6', 'Sep 18', 'Jan 15', 'Oct 18', 'Jun 24', 'Jan 27', 'Dec 22', 'Jun 8', 'Aug 5', 'Mar 5', 'Aug 29', 'Oct 12', 'Feb 26', 'Feb 17', 'Sep 27', 'Apr 13', 'Jul 9', 'Feb 18', 'Sep 24', 'Jan 21', 'Oct 17', 'Feb 6', 'Jun 11', 'Jun 10', 'Oct 23', 'Apr 4', 'Feb 10', 'Mar 6', 'Jun 3', 'Mar 29', 'Dec 28', 'Aug 8', 'Jul 31', 'Apr 11', 'Jun 27', 'Feb 23', 'Apr 3', 'Jun 28', 'May 19', 'Jun 6', 'May 5', 'Apr 19', 'Dec 19', 'Nov 15', 'Aug 14', 'Oct 1', 'Sep 23', 'Nov 2', 'Jan 12', 'Dec 13', 'Jan 18', 'Jul 30', 'Aug 25', 'Jan 23', 'Dec', 'Aug 15', 'Sep 29', 'Sep 15', 'Oct 14', 'Apr 16', 'Oct 15', 'Apr 29', 'Jul 16', 'Dec 31', 'Apr 20', 'Mar 3', 'May 7', 'Nov 20', 'Nov 17', 'Nov 22', 'Jan 3', 'May 28', 'Sep 20', 'Dec 6', 'Nov 5', 'Nov 9', 'May 15', 'Sep 21', 'Dec 17', 'Sep 4', 'Jan 9', 'Jan', 'Apr 25', 'Dec 11', 'Apr 7', 'May 10', 'Mar 28', 'Sep 8', 'Mar 9', 'Dec 15', 'Jan 5', 'Aug 11', 'May 2', 'Jan 7', 'Nov 21', 'May 25', 'Oct 25', 'May 20', 'Jan 19', 'Apr 1', 'Nov 11', 'Oct 24', 'Feb 2', 'Dec 30', 'Sep 22', 'May 8', 'Aug 10', 'Nov 7', 'Sep 19', 'Nov 29', 'Aug 24', 'Oct 29', 'Jul 10', 'Oct 10', 'Jul 5', 'Jan 29', 'Sep 13', 'May 22', 'Feb 28', 'Mar 31', 'Jun 4', 'Jul 25', 'Mar 8', 'Jun', 'Sep 17', 'Oct 22', 'Nov 6', 'Aug 4', 'Aug 22', 'Nov 30', 'Mar 14', 'Oct 3', 'Nov 1', 'Jan 4', 'Feb 22', 'Mar 1', 'Nov 18', 'Dec 14', 'Nov 28', 'Feb 13', 'Jul 1', 'Mar 10', 'May 17', 'Apr 9', 'Jan 1', 'Jul 22', 'Mar 15', 'Aug 9', 'Jul 19', 'Apr 17', 'May 12', 'Aug 12', 'Jun 20', 'Mar 30', 'Oct 8', 'Jan 30', 'Apr 28', 'Jul 14', 'Sep 11', 'Sep 16', 'Mar 11', 'May', 'Aug', 'May 16', 'Jun 16', 'Jan 28', 'Jun 21', 'Jul 12', 'Dec 16', 'Jul 20', 'Feb 11', 'May 6', 'Sep 7', 'Jun 17', 'Mar 27', 'Apr 15', 'Jul 8', 'Oct 7', 'Dec 23', 'Jul 27', 'Jun 5', 'Jul', 'Mar 12', 'Jul 21', 'May 24', 'Mar 13', 'Jan 2', 'Oct 21', 'Oct 27', 'Jan 24', 'Aug 2', 'Jan 22', 'Sep 14', 'Oct 31', 'Feb 27', 'Dec 24', 'Oct 30', 'Jul 2', 'Apr 14', 'Apr 8', 'Apr 26', 'Jan 13', 'Dec 10', 'Jan 10', 'Dec 12', 'Oct 5', 'Jan 11', 'Sep 2', 'Nov 27', 'Oct 13', 'Sep 9', 'Jun 26', 'Jul 6', 'Jul 15', 'Oct 26', 'Jul 3', 'May 18', 'Aug 1', 'Feb 7', 'Nov 3', 'Jul 7', 'Dec 18', 'Nov 19', 'Jul 24', 'Aug 20', 'Jul 28', 'Apr 24', 'Feb 21', 'Aug 26', 'Feb 16', 'Nov 24', 'May 1', 'Nov', 'Jan 16', 'Nov 4', 'Aug 18', 'May 27', 'Aug 27', 'May 4', 'Jun 9', 'May 29', 'Apr', 'Aug 3', 'Mar 23', 'Feb 15', 'Dec 4', 'Feb 14', 'Dec 1', 'Nov 8', 'Sep', 'Mar 2', 'Mar 22', 'Mar 4', 'Jan 6', 'May 3', 'May 30', 'Jun 7', 'Apr 5', 'Jun 25', 'May 21', 'Nov 26', 'Aug 7', 'Feb 3', 'Jul 29', 'Dec 5', 'Feb', 'Jan 20', 'Apr 22', 'Oct 28', 'Jun 13', 'Dec 20', 'Feb 1', 'Aug 16', 'Aug 6', 'Jan 25', 'Mar 24', 'Jan 26', 'Feb 19', 'Mar 20', 'Sep 30', 'Apr 2', 'Feb 9', 'Mar 17', 'Oct 9', 'Jun 18', 'Feb 4', 'Jul 13', 'Sep 3', 'Feb 5', 'Dec 25', 'Aug 19', 'Apr 23']\n",
      "\n",
      "Amount of not parsed: 15695\n",
      "Amount of nan: 67340\n"
     ]
    }
   ],
   "source": [
    "# Know which dates were not parsed    \n",
    "dict_transform = {x: parse_birth_dates(x) for x in profiles[\"birthday\"].unique()}\n",
    "parsed = profiles[\"birthday\"].map(dict_transform)\n",
    "not_parsed_names = parsed.loc[np.isnan(parsed)].index\n",
    "not_parsed_values = profiles[\"birthday\"].loc[not_parsed_names]\n",
    "nan_amount = not_parsed_values.isnull().sum()\n",
    "\n",
    "print(f\"Not parsed: \\n{list(not_parsed_values.unique())}\")\n",
    "print(\n",
    "    f\"\\nAmount of not parsed: {len(not_parsed_values) - nan_amount}\",\n",
    "    f\"Amount of nan: {nan_amount}\",\n",
    "    sep=\"\\n\")"
   ]
  },
  {
   "cell_type": "markdown",
   "id": "650b01ce-826c-4551-9373-0fbb5ecbee66",
   "metadata": {},
   "source": [
    "### Obtendo as idades\n",
    "\n",
    "Agora podemos obter a idade da maioria dos usuários:"
   ]
  },
  {
   "cell_type": "code",
   "execution_count": 63,
   "id": "93ece569-b4aa-4e24-b9f2-ee0f27a4e077",
   "metadata": {},
   "outputs": [
    {
     "data": {
      "text/plain": [
       "<Axes: >"
      ]
     },
     "execution_count": 63,
     "metadata": {},
     "output_type": "execute_result"
    },
    {
     "data": {
      "image/png": "[encoded data removed]",
      "text/plain": [
       "<Figure size 640x480 with 1 Axes>"
      ]
     },
     "metadata": {},
     "output_type": "display_data"
    }
   ],
   "source": [
    "birthday_is_date = pd.api.types.is_datetime64_any_dtype(profiles[\"birthday\"])\n",
    "today = pd.to_datetime('today')\n",
    "\n",
    "if not birthday_is_date:\n",
    "    profiles[\"birthday\"] = profiles[\"birthday\"].map(dict_transform)\n",
    "    profiles[\"birthday\"] = pd.to_datetime(profiles[\"birthday\"])\n",
    "\n",
    "profiles[\"user_age\"] = today.year - profiles[\"birthday\"].dt.year\n",
    "profiles[\"user_age\"].hist(bins=30)"
   ]
  },
  {
   "cell_type": "markdown",
   "id": "4ac194a8-b68d-4061-b725-0e92b6634dfd",
   "metadata": {},
   "source": [
    "# Obtendo lista de animes favoritos\n",
    "\n",
    "Os animes favoritos estão relacionados como \"['anime1', 'anime2', ...]\", vamos ter que obter estas informações como listas do python para relacionar gênero e idade aos an"
   ]
  }
 ],
 "metadata": {
  "kernelspec": {
   "display_name": "Python 3 (ipykernel)",
   "language": "python",
   "name": "python3"
  },
  "language_info": {
   "codemirror_mode": {
    "name": "ipython",
    "version": 3
   },
   "file_extension": ".py",
   "mimetype": "text/x-python",
   "name": "python",
   "nbconvert_exporter": "python",
   "pygments_lexer": "ipython3",
   "version": "3.11.5"
  }
 },
 "nbformat": 4,
 "nbformat_minor": 5
}
