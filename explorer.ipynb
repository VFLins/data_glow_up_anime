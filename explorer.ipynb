{
 "cells": [
  {
   "cell_type": "code",
   "execution_count": 71,
   "id": "7ba96789-7e43-4a3c-bd13-4d13bc844f6e",
   "metadata": {},
   "outputs": [],
   "source": [
    "import pandas as pd\n",
    "from datetime import datetime\n",
    "import numpy as np\n",
    "import re"
   ]
  },
  {
   "cell_type": "code",
   "execution_count": 72,
   "id": "3e4071e0-0432-4dae-a01d-26c58ba456b7",
   "metadata": {},
   "outputs": [],
   "source": [
    "animes = pd.read_csv(\"data/animes.csv\", index_col=0)\n",
    "profiles = pd.read_csv(\"data/profiles.csv\", index_col=0)\n",
    "#review = pd.read_csv(\"data/review.csv\")"
   ]
  },
  {
   "cell_type": "markdown",
   "id": "d36d2fba-8aec-4473-b2d7-2c89b7a76ad0",
   "metadata": {},
   "source": [
    "# Linhas duplicadas\n",
    "\n",
    "Muitas linhas duplicadas foram encontradas, removendo:"
   ]
  },
  {
   "cell_type": "code",
   "execution_count": 73,
   "id": "bf68c9b6-5b86-48d3-9250-52a4960e45d2",
   "metadata": {},
   "outputs": [
    {
     "name": "stdout",
     "output_type": "stream",
     "text": [
      "<class 'pandas.core.frame.DataFrame'>\n",
      "Index: 16216 entries, 28891 to 16934\n",
      "Data columns (total 11 columns):\n",
      " #   Column      Non-Null Count  Dtype  \n",
      "---  ------      --------------  -----  \n",
      " 0   title       16216 non-null  object \n",
      " 1   synopsis    15453 non-null  object \n",
      " 2   genre       16216 non-null  object \n",
      " 3   aired       16216 non-null  object \n",
      " 4   episodes    15724 non-null  float64\n",
      " 5   members     16216 non-null  int64  \n",
      " 6   popularity  16216 non-null  int64  \n",
      " 7   ranked      14553 non-null  float64\n",
      " 8   score       15875 non-null  float64\n",
      " 9   img_url     16051 non-null  object \n",
      " 10  link        16216 non-null  object \n",
      "dtypes: float64(3), int64(2), object(6)\n",
      "memory usage: 1.5+ MB\n"
     ]
    }
   ],
   "source": [
    "animes = animes[~animes.index.duplicated()]\n",
    "animes.info()"
   ]
  },
  {
   "cell_type": "code",
   "execution_count": 74,
   "id": "1c62c269-3f84-4bbb-9a64-541ae7ecf19a",
   "metadata": {},
   "outputs": [
    {
     "name": "stdout",
     "output_type": "stream",
     "text": [
      "<class 'pandas.core.frame.DataFrame'>\n",
      "Index: 47885 entries, DesolatePsyche to srry4apologizng\n",
      "Data columns (total 4 columns):\n",
      " #   Column           Non-Null Count  Dtype \n",
      "---  ------           --------------  ----- \n",
      " 0   gender           30878 non-null  object\n",
      " 1   birthday         26848 non-null  object\n",
      " 2   favorites_anime  47885 non-null  object\n",
      " 3   link             47885 non-null  object\n",
      "dtypes: object(4)\n",
      "memory usage: 1.8+ MB\n"
     ]
    }
   ],
   "source": [
    "profiles = profiles[~profiles.index.duplicated()]\n",
    "profiles.info()"
   ]
  },
  {
   "cell_type": "markdown",
   "id": "93625f05-c5aa-40df-9c95-b68d9d3cda1f",
   "metadata": {},
   "source": [
    "# Perfis dos usuários"
   ]
  },
  {
   "cell_type": "markdown",
   "id": "7e042a63-31d7-42c0-8f91-ebbb5febeb8a",
   "metadata": {},
   "source": [
    "### Resgatando datas de aniversário\n",
    "\n",
    "O objetivo principal nesta tarefa de *parsing* é preservar a informação idade do usuário, para isto, os *strings* com a informação do ano de nascimento (ou algo que possa ser usado como tal) precisam ser mantidos, todos os outros podem ser descartados."
   ]
  },
  {
   "cell_type": "code",
   "execution_count": 75,
   "id": "aeb64c86-a58b-4c5c-896c-680978371e62",
   "metadata": {},
   "outputs": [],
   "source": [
    "def parse_birth_dates(inp: str | datetime) -> datetime | None:\n",
    "    is_datetime = isinstance(inp, datetime)\n",
    "    is_string = isinstance(inp, str)\n",
    "    \n",
    "    if inp==np.nan:\n",
    "        return None\n",
    "\n",
    "    # typical cases, people born before 2000\n",
    "    formats = (\n",
    "        # complete information:\n",
    "        \"%b %d, %Y\", \n",
    "        # day missing:\n",
    "        \"%b %Y\", \"%m, %Y\", \n",
    "        # month missing:\n",
    "        \"%d, %Y\",\n",
    "        # day and month missing:\n",
    "        \"%Y\", \"%y\")\n",
    "\n",
    "    if is_datetime:\n",
    "        return inp\n",
    "    else:\n",
    "        for form in formats:\n",
    "            try:\n",
    "                return datetime.strptime(inp, form)\n",
    "            except:\n",
    "                continue\n",
    "\n",
    "    # special cases, people born in the 2000s and after\n",
    "    curr_year = str(pd.to_datetime(\"today\").year)\n",
    "    max_valid = int(f\"{curr_year}\"[2:])\n",
    "\n",
    "    # parsing \"%y\" with single digits, month and day missing (might be \"%d\" being treated as the former)\n",
    "    # leaving uncommented due to low impact on the data\n",
    "    if is_string and (len(inp) < 3):\n",
    "        try:\n",
    "            if (int(inp) < max_valid):\n",
    "                inp = f\"{int(inp):02}\"\n",
    "                return datetime.strptime(inp, \"%y\")\n",
    "            else:\n",
    "                return inp\n",
    "        except:\n",
    "            pass\n",
    "            \n",
    "    # parsing \"%b %y\", day missing (probably \"%b %d\" being treated as the former)\n",
    "    # leaving commented\n",
    "    # else:\n",
    "    #     try:\n",
    "    #         \n",
    "    #         str_elements = string.split(\" \")\n",
    "    #         if int(str_elements[1]) < max_valid:\n",
    "    #             string = f\"{str_elements[0]} 20{int(str_elements[1]):02}\"\n",
    "    #             return datetime.strptime(string, format=\"%b %Y\")\n",
    "    #     except:\n",
    "    #         pass\n",
    "            \n",
    "    return None"
   ]
  },
  {
   "cell_type": "code",
   "execution_count": 76,
   "id": "53d9cd88-7c3c-40ba-ab96-828cfe10c512",
   "metadata": {},
   "outputs": [
    {
     "name": "stdout",
     "output_type": "stream",
     "text": [
      "Not parsed: \n",
      "[nan, 'Sep 5', 'Oct 6', 'Aug 23', 'Jun 2', 'Jul 17', 'Sep 25', 'Aug 31', 'Mar 19', 'Sep 26', 'Jun 30', 'Apr 10', 'Jun 22', 'Jul 11', 'Apr 12', 'May 14', 'Sep 28', 'Jan 8', 'Jun 15', 'Oct 11', 'Dec 27', 'Jun 1', 'Aug 21', 'Nov 12', 'Oct 20', 'Nov 13', 'Jul 26', 'Nov 25', 'Oct 2', 'Apr 21', 'Jul 23', 'May 26', 'Feb 12', 'Feb 24', 'Oct 16', 'Aug 28', 'Oct 4', 'Dec 8', 'Apr 27', 'Mar 21', 'Oct 19', 'Dec 9', 'Aug 13', 'Dec 7', 'Jan 17', 'May 13', 'Mar 16', 'Jul 4', 'May 9', 'Jun 23', 'Jun 29', 'Mar 26', 'Sep 12', 'Nov 23', 'May 11', 'Apr 6', 'Dec 3', 'Mar', 'Dec 26', 'Oct', 'Jun 19', 'Mar 25', 'Apr 30', 'Nov 10', 'Dec 29', 'Sep 1', 'Aug 30', 'May 31', 'Dec 21', 'Sep 10', 'Mar 7', 'Apr 18', 'Feb 8', 'Nov 14', 'May 23', 'Feb 20', 'Jun 14', 'Jul 18', 'Feb 25', 'Jan 31', 'Jan 14', 'Jun 12', 'Mar 18', 'Aug 17', 'Nov 16', 'Dec 2', 'Sep 6', 'Sep 18', 'Jan 15', 'Oct 18', 'Jun 24', 'Jan 27', 'Dec 22', 'Jun 8', 'Aug 5', 'Mar 5', 'Aug 29', 'Oct 12', 'Feb 26', 'Feb 17', 'Sep 27', 'Apr 13', 'Jul 9', 'Feb 18', 'Sep 24', 'Jan 21', 'Oct 17', 'Feb 6', 'Jun 11', 'Jun 10', 'Oct 23', 'Apr 4', 'Feb 10', 'Mar 6', 'Jun 3', 'Mar 29', 'Dec 28', 'Aug 8', 'Jul 31', 'Apr 11', 'Jun 27', 'Feb 23', 'Apr 3', 'Jun 28', 'May 19', 'Jun 6', 'May 5', 'Apr 19', 'Dec 19', 'Nov 15', 'Aug 14', 'Oct 1', 'Sep 23', 'Nov 2', 'Jan 12', 'Dec 13', 'Jan 18', 'Jul 30', 'Aug 25', 'Jan 23', 'Dec', 'Aug 15', 'Sep 29', 'Sep 15', 'Oct 14', 'Apr 16', 'Oct 15', 'Apr 29', 'Jul 16', 'Dec 31', 'Apr 20', 'Mar 3', 'May 7', 'Nov 20', 'Nov 17', 'Nov 22', 'Jan 3', 'May 28', 'Sep 20', 'Dec 6', 'Nov 5', 'Nov 9', 'May 15', 'Sep 21', 'Dec 17', 'Sep 4', 'Jan 9', 'Jan', 'Apr 25', 'Dec 11', 'Apr 7', 'May 10', 'Mar 28', 'Sep 8', 'Mar 9', 'Dec 15', 'Jan 5', 'Aug 11', 'May 2', 'Jan 7', 'Nov 21', 'May 25', 'Oct 25', 'May 20', 'Jan 19', 'Apr 1', 'Nov 11', 'Oct 24', 'Feb 2', 'Dec 30', 'Sep 22', 'May 8', 'Aug 10', 'Nov 7', 'Sep 19', 'Nov 29', 'Aug 24', 'Oct 29', 'Jul 10', 'Oct 10', 'Jul 5', 'Jan 29', 'Sep 13', 'May 22', 'Feb 28', 'Mar 31', 'Jun 4', 'Jul 25', 'Mar 8', 'Jun', 'Sep 17', 'Oct 22', 'Nov 6', 'Aug 4', 'Aug 22', 'Nov 30', 'Mar 14', 'Oct 3', 'Nov 1', 'Jan 4', 'Feb 22', 'Mar 1', 'Nov 18', 'Dec 14', 'Nov 28', 'Feb 13', 'Jul 1', 'Mar 10', 'May 17', 'Apr 9', 'Jan 1', 'Jul 22', 'Mar 15', 'Aug 9', 'Jul 19', 'Apr 17', 'May 12', 'Aug 12', 'Jun 20', 'Mar 30', 'Oct 8', 'Jan 30', 'Apr 28', 'Jul 14', 'Sep 11', 'Sep 16', 'Mar 11', 'May', 'Aug', 'May 16', 'Jun 16', 'Jan 28', 'Jun 21', 'Jul 12', 'Dec 16', 'Jul 20', 'Feb 11', 'May 6', 'Sep 7', 'Jun 17', 'Mar 27', 'Apr 15', 'Jul 8', 'Oct 7', 'Dec 23', 'Jul 27', 'Jun 5', 'Jul', 'Mar 12', 'Jul 21', 'May 24', 'Mar 13', 'Jan 2', 'Oct 21', 'Oct 27', 'Jan 24', 'Aug 2', 'Jan 22', 'Sep 14', 'Oct 31', 'Feb 27', 'Dec 24', 'Oct 30', 'Jul 2', 'Apr 14', 'Apr 8', 'Apr 26', 'Jan 13', 'Dec 10', 'Jan 10', 'Dec 12', 'Oct 5', 'Jan 11', 'Sep 2', 'Nov 27', 'Oct 13', 'Sep 9', 'Jun 26', 'Jul 6', 'Jul 15', 'Oct 26', 'Jul 3', 'May 18', 'Aug 1', 'Feb 7', 'Nov 3', 'Jul 7', 'Dec 18', 'Nov 19', 'Jul 24', 'Aug 20', 'Jul 28', 'Apr 24', 'Feb 21', 'Aug 26', 'Feb 16', 'Nov 24', 'May 1', 'Nov', 'Jan 16', 'Nov 4', 'Aug 18', 'May 27', 'Aug 27', 'May 4', 'Jun 9', 'May 29', 'Apr', 'Aug 3', 'Mar 23', 'Feb 15', 'Dec 4', 'Feb 14', 'Dec 1', 'Nov 8', 'Sep', 'Mar 2', 'Mar 22', 'Mar 4', 'Jan 6', 'May 3', 'May 30', 'Jun 7', 'Apr 5', 'Jun 25', 'May 21', 'Nov 26', 'Aug 7', 'Feb 3', 'Jul 29', 'Dec 5', 'Feb', 'Jan 20', 'Apr 22', 'Oct 28', 'Jun 13', 'Dec 20', 'Feb 1', 'Aug 16', 'Aug 6', 'Jan 25', 'Mar 24', 'Jan 26', 'Feb 19', 'Mar 20', 'Sep 30', 'Apr 2', 'Feb 9', 'Mar 17', 'Oct 9', 'Jun 18', 'Feb 4', 'Jul 13', 'Sep 3', 'Feb 5', 'Dec 25', 'Aug 19', 'Apr 23']\n",
      "\n",
      "Amount of not parsed: 4253\n",
      "Amount of nan: 21037\n"
     ]
    }
   ],
   "source": [
    "# Know which dates were not parsed    \n",
    "dict_transform = {x: parse_birth_dates(x) for x in profiles[\"birthday\"].unique()}\n",
    "parsed = profiles[\"birthday\"].map(dict_transform)\n",
    "\n",
    "not_parsed_names = parsed.loc[parsed.isnull()].index\n",
    "not_parsed_values = profiles[\"birthday\"].loc[not_parsed_names]\n",
    "nan_amount = not_parsed_values.isnull().sum()\n",
    "\n",
    "print(f\"Not parsed: \\n{list(not_parsed_values.unique())}\")\n",
    "print(\n",
    "    f\"\\nAmount of not parsed: {len(not_parsed_values) - nan_amount}\",\n",
    "    f\"Amount of nan: {nan_amount}\",\n",
    "    sep=\"\\n\")"
   ]
  },
  {
   "cell_type": "markdown",
   "id": "650b01ce-826c-4551-9373-0fbb5ecbee66",
   "metadata": {},
   "source": [
    "### Obtendo as idades\n",
    "\n",
    "Agora podemos obter a idade da maioria dos usuários:"
   ]
  },
  {
   "cell_type": "code",
   "execution_count": 77,
   "id": "93ece569-b4aa-4e24-b9f2-ee0f27a4e077",
   "metadata": {},
   "outputs": [
    {
     "data": {
      "text/plain": [
       "<Axes: >"
      ]
     },
     "execution_count": 77,
     "metadata": {},
     "output_type": "execute_result"
    },
    {
     "data": {
      "image/png": "[encoded data removed]",
      "text/plain": [
       "<Figure size 640x480 with 1 Axes>"
      ]
     },
     "metadata": {},
     "output_type": "display_data"
    }
   ],
   "source": [
    "birthday_is_date = pd.api.types.is_datetime64_any_dtype(profiles[\"birthday\"])\n",
    "today = pd.to_datetime('today')\n",
    "\n",
    "if not birthday_is_date:\n",
    "    profiles[\"birthday\"] = profiles[\"birthday\"].map(dict_transform)\n",
    "    profiles[\"birthday\"] = pd.to_datetime(profiles[\"birthday\"])\n",
    "\n",
    "profiles[\"user_age\"] = today.year - profiles[\"birthday\"].dt.year\n",
    "profiles[\"user_age\"].hist(bins=30)"
   ]
  },
  {
   "cell_type": "markdown",
   "id": "4ac194a8-b68d-4061-b725-0e92b6634dfd",
   "metadata": {},
   "source": [
    "# Obtendo lista de animes favoritos\n",
    "\n",
    "Os animes favoritos estão relacionados como \"['anime1', 'anime2', ...]\", vamos ter que obter estas informações como listas do python para relacionar gênero e idade dos usuários e suas categorias favoritas de animes.\n",
    "\n",
    "Por incrível que possa parecer, esta transformação vai ser mais simples do que parece."
   ]
  },
  {
   "cell_type": "code",
   "execution_count": 78,
   "id": "bca9c657-52bc-409e-831d-32563a3bebd8",
   "metadata": {},
   "outputs": [],
   "source": [
    "def parse_as_list(inp: list | str) -> list:\n",
    "    if type(inp) == str:\n",
    "        if inp == \"[]\": \n",
    "            return []\n",
    "        line = re.sub(r\"(\\[|\\]|')\", \"\", inp)\n",
    "        return line.split(\", \")\n",
    "    elif type(inp) == list:\n",
    "        return inp\n",
    "    else:\n",
    "        raise TypeError(\"`inp` must be one of `list` or `str`\")\n",
    "    \n",
    "profiles[\"favorites_anime\"] = profiles[\"favorites_anime\"].apply(parse_as_list)\n",
    "animes[\"genre\"] = animes[\"genre\"].apply(parse_as_list)"
   ]
  },
  {
   "cell_type": "markdown",
   "id": "ea815fcb-c548-4370-92ba-8e664ace8c18",
   "metadata": {},
   "source": [
    "## Adicionando informação de gêneros favoritos\n",
    "\n",
    "Agora precisamos adicionar uma coluna para cada gênero possível em `profiles`, cada linha de dados deve incluir a quantidade de ocorrências de determinado gênero na lista de animes do usuário."
   ]
  },
  {
   "cell_type": "code",
   "execution_count": 79,
   "id": "d701ac62-af31-4608-bb68-237f08e229c1",
   "metadata": {},
   "outputs": [
    {
     "name": "stdout",
     "output_type": "stream",
     "text": [
      "Comedy // Sports // Drama // School // Shounen // Music // Romance // Sci-Fi // Adventure // Mystery // Fantasy // Action // Military // Magic // Supernatural // Vampire // Slice of Life // Demons // Historical // Super Power // Mecha // Parody // Samurai // Seinen // Police // Psychological // Josei // Space // Kids // Shoujo Ai // Ecchi // Shoujo // Horror // Shounen Ai // Cars // Martial Arts // Game // Thriller // Dementia // Harem // Hentai // Yaoi // Yuri\n"
     ]
    }
   ],
   "source": [
    "unique_genres = []\n",
    "for row in animes[\"genre\"]:\n",
    "    if row:\n",
    "        for item in row:\n",
    "            if item not in unique_genres:\n",
    "                unique_genres.append(item)\n",
    "\n",
    "print(*unique_genres, sep=\" // \")"
   ]
  },
  {
   "cell_type": "markdown",
   "id": "9e27757d-16ff-443e-8116-7923158057df",
   "metadata": {},
   "source": [
    "Agora vamos podemos usar a nossa lista de gêneros para provoar `profiles` com uma coluna para cada gênero, por enquanto os valores serão todos `0`. "
   ]
  },
  {
   "cell_type": "code",
   "execution_count": 80,
   "id": "a2381411-6f29-480d-9b73-4416fb6dcb3b",
   "metadata": {},
   "outputs": [],
   "source": [
    "for genre in unique_genres:\n",
    "    profiles[genre] = 0"
   ]
  },
  {
   "cell_type": "markdown",
   "id": "49e44d03-a62d-4137-8b5d-fa4c3a22813f",
   "metadata": {},
   "source": [
    "Com as colunas prontas para receber os novos valores, vamos adicionar os totais de animes vistos para cada gênero."
   ]
  },
  {
   "cell_type": "code",
   "execution_count": 81,
   "id": "2580d613-c883-4a3b-9638-177c7399d822",
   "metadata": {},
   "outputs": [
    {
     "ename": "KeyError",
     "evalue": "'875'",
     "output_type": "error",
     "traceback": [
      "\u001b[1;31m---------------------------------------------------------------------------\u001b[0m",
      "\u001b[1;31mKeyError\u001b[0m                                  Traceback (most recent call last)",
      "Cell \u001b[1;32mIn[81], line 5\u001b[0m\n\u001b[0;32m      3\u001b[0m \u001b[38;5;28;01mfor\u001b[39;00m user \u001b[38;5;129;01min\u001b[39;00m profiles\u001b[38;5;241m.\u001b[39mindex:\n\u001b[0;32m      4\u001b[0m     anime_ids \u001b[38;5;241m=\u001b[39m profiles\u001b[38;5;241m.\u001b[39mloc[user, \u001b[38;5;124m\"\u001b[39m\u001b[38;5;124mfavorites_anime\u001b[39m\u001b[38;5;124m\"\u001b[39m]\n\u001b[1;32m----> 5\u001b[0m     genres \u001b[38;5;241m=\u001b[39m \u001b[43m[\u001b[49m\u001b[43mdict_of_genres\u001b[49m\u001b[43m[\u001b[49m\u001b[38;5;28;43mstr\u001b[39;49m\u001b[43m(\u001b[49m\u001b[38;5;28;43mid\u001b[39;49m\u001b[43m)\u001b[49m\u001b[43m]\u001b[49m\u001b[43m \u001b[49m\u001b[38;5;28;43;01mif\u001b[39;49;00m\u001b[43m \u001b[49m\u001b[38;5;28;43mid\u001b[39;49m\u001b[43m \u001b[49m\u001b[38;5;28;43;01melse\u001b[39;49;00m\u001b[43m \u001b[49m\u001b[38;5;28;43;01mNone\u001b[39;49;00m\u001b[43m \u001b[49m\u001b[38;5;28;43;01mfor\u001b[39;49;00m\u001b[43m \u001b[49m\u001b[38;5;28;43mid\u001b[39;49m\u001b[43m \u001b[49m\u001b[38;5;129;43;01min\u001b[39;49;00m\u001b[43m \u001b[49m\u001b[43manime_ids\u001b[49m\u001b[43m]\u001b[49m\n\u001b[0;32m      7\u001b[0m     \u001b[38;5;28;01mif\u001b[39;00m genres \u001b[38;5;241m==\u001b[39m [\u001b[38;5;28;01mNone\u001b[39;00m]:\n\u001b[0;32m      8\u001b[0m         \u001b[38;5;28;01mcontinue\u001b[39;00m\n",
      "Cell \u001b[1;32mIn[81], line 5\u001b[0m, in \u001b[0;36m<listcomp>\u001b[1;34m(.0)\u001b[0m\n\u001b[0;32m      3\u001b[0m \u001b[38;5;28;01mfor\u001b[39;00m user \u001b[38;5;129;01min\u001b[39;00m profiles\u001b[38;5;241m.\u001b[39mindex:\n\u001b[0;32m      4\u001b[0m     anime_ids \u001b[38;5;241m=\u001b[39m profiles\u001b[38;5;241m.\u001b[39mloc[user, \u001b[38;5;124m\"\u001b[39m\u001b[38;5;124mfavorites_anime\u001b[39m\u001b[38;5;124m\"\u001b[39m]\n\u001b[1;32m----> 5\u001b[0m     genres \u001b[38;5;241m=\u001b[39m [\u001b[43mdict_of_genres\u001b[49m\u001b[43m[\u001b[49m\u001b[38;5;28;43mstr\u001b[39;49m\u001b[43m(\u001b[49m\u001b[38;5;28;43mid\u001b[39;49m\u001b[43m)\u001b[49m\u001b[43m]\u001b[49m \u001b[38;5;28;01mif\u001b[39;00m \u001b[38;5;28mid\u001b[39m \u001b[38;5;28;01melse\u001b[39;00m \u001b[38;5;28;01mNone\u001b[39;00m \u001b[38;5;28;01mfor\u001b[39;00m \u001b[38;5;28mid\u001b[39m \u001b[38;5;129;01min\u001b[39;00m anime_ids]\n\u001b[0;32m      7\u001b[0m     \u001b[38;5;28;01mif\u001b[39;00m genres \u001b[38;5;241m==\u001b[39m [\u001b[38;5;28;01mNone\u001b[39;00m]:\n\u001b[0;32m      8\u001b[0m         \u001b[38;5;28;01mcontinue\u001b[39;00m\n",
      "\u001b[1;31mKeyError\u001b[0m: '875'"
     ]
    }
   ],
   "source": [
    "dict_of_genres = {str(id): genres for id, genres in zip(animes.index, animes[\"genre\"])}\n",
    "\n",
    "for user in profiles.index:\n",
    "    anime_ids = profiles.loc[user, \"favorites_anime\"]\n",
    "    genres = [dict_of_genres[str(id)] if id else None for id in anime_ids]\n",
    "\n",
    "    if genres == [None]:\n",
    "        continue\n",
    "    \n",
    "    genre_counts = {}\n",
    "    for sublist in genres:\n",
    "        for genre in sublist:\n",
    "            if genre in genre_counts:\n",
    "                genre_counts[genre] += 1\n",
    "            else:\n",
    "                genre_counts[genre] = 1\n",
    "    # !!! Running this part multiple times will add the quantities multiple times\n",
    "    for genre in genre_counts.keys():\n",
    "        profiles.loc[user, genre] = (profiles.loc[user, genre] + genre_counts[genre])"
   ]
  },
  {
   "cell_type": "code",
   "execution_count": 83,
   "id": "4984a5be-b6aa-4807-ae9f-60f98e9889cc",
   "metadata": {},
   "outputs": [
    {
     "data": {
      "text/html": [
       "<div>\n",
       "<style scoped>\n",
       "    .dataframe tbody tr th:only-of-type {\n",
       "        vertical-align: middle;\n",
       "    }\n",
       "\n",
       "    .dataframe tbody tr th {\n",
       "        vertical-align: top;\n",
       "    }\n",
       "\n",
       "    .dataframe thead th {\n",
       "        text-align: right;\n",
       "    }\n",
       "</style>\n",
       "<table border=\"1\" class=\"dataframe\">\n",
       "  <thead>\n",
       "    <tr style=\"text-align: right;\">\n",
       "      <th></th>\n",
       "      <th>title</th>\n",
       "      <th>synopsis</th>\n",
       "      <th>genre</th>\n",
       "      <th>aired</th>\n",
       "      <th>episodes</th>\n",
       "      <th>members</th>\n",
       "      <th>popularity</th>\n",
       "      <th>ranked</th>\n",
       "      <th>score</th>\n",
       "      <th>img_url</th>\n",
       "      <th>link</th>\n",
       "    </tr>\n",
       "    <tr>\n",
       "      <th>uid</th>\n",
       "      <th></th>\n",
       "      <th></th>\n",
       "      <th></th>\n",
       "      <th></th>\n",
       "      <th></th>\n",
       "      <th></th>\n",
       "      <th></th>\n",
       "      <th></th>\n",
       "      <th></th>\n",
       "      <th></th>\n",
       "      <th></th>\n",
       "    </tr>\n",
       "  </thead>\n",
       "  <tbody>\n",
       "    <tr>\n",
       "      <th>28891</th>\n",
       "      <td>Haikyuu!! Second Season</td>\n",
       "      <td>Following their participation at the Inter-Hig...</td>\n",
       "      <td>[Comedy, Sports, Drama, School, Shounen]</td>\n",
       "      <td>Oct 4, 2015 to Mar 27, 2016</td>\n",
       "      <td>25.0</td>\n",
       "      <td>489888</td>\n",
       "      <td>141</td>\n",
       "      <td>25.0</td>\n",
       "      <td>8.82</td>\n",
       "      <td>https://cdn.myanimelist.net/images/anime/9/766...</td>\n",
       "      <td>https://myanimelist.net/anime/28891/Haikyuu_Se...</td>\n",
       "    </tr>\n",
       "    <tr>\n",
       "      <th>23273</th>\n",
       "      <td>Shigatsu wa Kimi no Uso</td>\n",
       "      <td>Music accompanies the path of the human metron...</td>\n",
       "      <td>[Drama, Music, Romance, School, Shounen]</td>\n",
       "      <td>Oct 10, 2014 to Mar 20, 2015</td>\n",
       "      <td>22.0</td>\n",
       "      <td>995473</td>\n",
       "      <td>28</td>\n",
       "      <td>24.0</td>\n",
       "      <td>8.83</td>\n",
       "      <td>https://cdn.myanimelist.net/images/anime/3/671...</td>\n",
       "      <td>https://myanimelist.net/anime/23273/Shigatsu_w...</td>\n",
       "    </tr>\n",
       "    <tr>\n",
       "      <th>34599</th>\n",
       "      <td>Made in Abyss</td>\n",
       "      <td>The Abyss—a gaping chasm stretching down into ...</td>\n",
       "      <td>[Sci-Fi, Adventure, Mystery, Drama, Fantasy]</td>\n",
       "      <td>Jul 7, 2017 to Sep 29, 2017</td>\n",
       "      <td>13.0</td>\n",
       "      <td>581663</td>\n",
       "      <td>98</td>\n",
       "      <td>23.0</td>\n",
       "      <td>8.83</td>\n",
       "      <td>https://cdn.myanimelist.net/images/anime/6/867...</td>\n",
       "      <td>https://myanimelist.net/anime/34599/Made_in_Abyss</td>\n",
       "    </tr>\n",
       "    <tr>\n",
       "      <th>5114</th>\n",
       "      <td>Fullmetal Alchemist: Brotherhood</td>\n",
       "      <td>\"In order for something to be obtained, someth...</td>\n",
       "      <td>[Action, Military, Adventure, Comedy, Drama, M...</td>\n",
       "      <td>Apr 5, 2009 to Jul 4, 2010</td>\n",
       "      <td>64.0</td>\n",
       "      <td>1615084</td>\n",
       "      <td>4</td>\n",
       "      <td>1.0</td>\n",
       "      <td>9.23</td>\n",
       "      <td>https://cdn.myanimelist.net/images/anime/1223/...</td>\n",
       "      <td>https://myanimelist.net/anime/5114/Fullmetal_A...</td>\n",
       "    </tr>\n",
       "    <tr>\n",
       "      <th>31758</th>\n",
       "      <td>Kizumonogatari III: Reiketsu-hen</td>\n",
       "      <td>After helping revive the legendary vampire Kis...</td>\n",
       "      <td>[Action, Mystery, Supernatural, Vampire]</td>\n",
       "      <td>Jan 6, 2017</td>\n",
       "      <td>1.0</td>\n",
       "      <td>214621</td>\n",
       "      <td>502</td>\n",
       "      <td>22.0</td>\n",
       "      <td>8.83</td>\n",
       "      <td>https://cdn.myanimelist.net/images/anime/3/815...</td>\n",
       "      <td>https://myanimelist.net/anime/31758/Kizumonoga...</td>\n",
       "    </tr>\n",
       "    <tr>\n",
       "      <th>...</th>\n",
       "      <td>...</td>\n",
       "      <td>...</td>\n",
       "      <td>...</td>\n",
       "      <td>...</td>\n",
       "      <td>...</td>\n",
       "      <td>...</td>\n",
       "      <td>...</td>\n",
       "      <td>...</td>\n",
       "      <td>...</td>\n",
       "      <td>...</td>\n",
       "      <td>...</td>\n",
       "    </tr>\n",
       "    <tr>\n",
       "      <th>10075</th>\n",
       "      <td>Naruto x UT</td>\n",
       "      <td>All-new animation offered throughout UNIQLO cl...</td>\n",
       "      <td>[Action, Comedy, Super Power, Martial Arts, Sh...</td>\n",
       "      <td>Jan 1, 2011</td>\n",
       "      <td>1.0</td>\n",
       "      <td>34155</td>\n",
       "      <td>2382</td>\n",
       "      <td>1728.0</td>\n",
       "      <td>7.50</td>\n",
       "      <td>https://cdn.myanimelist.net/images/anime/3/304...</td>\n",
       "      <td>https://myanimelist.net/anime/10075/Naruto_x_UT</td>\n",
       "    </tr>\n",
       "    <tr>\n",
       "      <th>35828</th>\n",
       "      <td>Miira no Kaikata</td>\n",
       "      <td>High school student Sora Kashiwagi is accustom...</td>\n",
       "      <td>[Slice of Life, Comedy, Supernatural]</td>\n",
       "      <td>Jan 12, 2018 to Mar 30, 2018</td>\n",
       "      <td>12.0</td>\n",
       "      <td>61459</td>\n",
       "      <td>1648</td>\n",
       "      <td>1727.0</td>\n",
       "      <td>7.50</td>\n",
       "      <td>https://cdn.myanimelist.net/images/anime/1486/...</td>\n",
       "      <td>https://myanimelist.net/anime/35828/Miira_no_K...</td>\n",
       "    </tr>\n",
       "    <tr>\n",
       "      <th>10378</th>\n",
       "      <td>Shinryaku!? Ika Musume</td>\n",
       "      <td>After regaining her squid-like abilities, Ika ...</td>\n",
       "      <td>[Slice of Life, Comedy, Shounen]</td>\n",
       "      <td>Sep 27, 2011 to Dec 25, 2011</td>\n",
       "      <td>12.0</td>\n",
       "      <td>67422</td>\n",
       "      <td>1547</td>\n",
       "      <td>1548.0</td>\n",
       "      <td>7.56</td>\n",
       "      <td>https://cdn.myanimelist.net/images/anime/6/301...</td>\n",
       "      <td>https://myanimelist.net/anime/10378/Shinryaku_...</td>\n",
       "    </tr>\n",
       "    <tr>\n",
       "      <th>33082</th>\n",
       "      <td>Kingsglaive: Final Fantasy XV</td>\n",
       "      <td>For years, the Niflheim Empire and the kingdom...</td>\n",
       "      <td>[Action]</td>\n",
       "      <td>Jul 9, 2016</td>\n",
       "      <td>1.0</td>\n",
       "      <td>41077</td>\n",
       "      <td>2154</td>\n",
       "      <td>1544.0</td>\n",
       "      <td>7.56</td>\n",
       "      <td>https://cdn.myanimelist.net/images/anime/12/79...</td>\n",
       "      <td>https://myanimelist.net/anime/33082/Kingsglaiv...</td>\n",
       "    </tr>\n",
       "    <tr>\n",
       "      <th>16934</th>\n",
       "      <td>Chuunibyou demo Koi ga Shitai!: Kirameki no......</td>\n",
       "      <td>Although Yuuta Togashi and Rikka Takanashi hav...</td>\n",
       "      <td>[Comedy, Drama, Romance, School, Slice of Life]</td>\n",
       "      <td>Jun 19, 2013</td>\n",
       "      <td>1.0</td>\n",
       "      <td>128400</td>\n",
       "      <td>883</td>\n",
       "      <td>1533.0</td>\n",
       "      <td>7.56</td>\n",
       "      <td>https://cdn.myanimelist.net/images/anime/7/455...</td>\n",
       "      <td>https://myanimelist.net/anime/16934/Chuunibyou...</td>\n",
       "    </tr>\n",
       "  </tbody>\n",
       "</table>\n",
       "<p>16216 rows × 11 columns</p>\n",
       "</div>"
      ],
      "text/plain": [
       "                                                   title  \\\n",
       "uid                                                        \n",
       "28891                            Haikyuu!! Second Season   \n",
       "23273                            Shigatsu wa Kimi no Uso   \n",
       "34599                                      Made in Abyss   \n",
       "5114                    Fullmetal Alchemist: Brotherhood   \n",
       "31758                   Kizumonogatari III: Reiketsu-hen   \n",
       "...                                                  ...   \n",
       "10075                                        Naruto x UT   \n",
       "35828                                   Miira no Kaikata   \n",
       "10378                             Shinryaku!? Ika Musume   \n",
       "33082                      Kingsglaive: Final Fantasy XV   \n",
       "16934  Chuunibyou demo Koi ga Shitai!: Kirameki no......   \n",
       "\n",
       "                                                synopsis  \\\n",
       "uid                                                        \n",
       "28891  Following their participation at the Inter-Hig...   \n",
       "23273  Music accompanies the path of the human metron...   \n",
       "34599  The Abyss—a gaping chasm stretching down into ...   \n",
       "5114   \"In order for something to be obtained, someth...   \n",
       "31758  After helping revive the legendary vampire Kis...   \n",
       "...                                                  ...   \n",
       "10075  All-new animation offered throughout UNIQLO cl...   \n",
       "35828  High school student Sora Kashiwagi is accustom...   \n",
       "10378  After regaining her squid-like abilities, Ika ...   \n",
       "33082  For years, the Niflheim Empire and the kingdom...   \n",
       "16934  Although Yuuta Togashi and Rikka Takanashi hav...   \n",
       "\n",
       "                                                   genre  \\\n",
       "uid                                                        \n",
       "28891           [Comedy, Sports, Drama, School, Shounen]   \n",
       "23273           [Drama, Music, Romance, School, Shounen]   \n",
       "34599       [Sci-Fi, Adventure, Mystery, Drama, Fantasy]   \n",
       "5114   [Action, Military, Adventure, Comedy, Drama, M...   \n",
       "31758           [Action, Mystery, Supernatural, Vampire]   \n",
       "...                                                  ...   \n",
       "10075  [Action, Comedy, Super Power, Martial Arts, Sh...   \n",
       "35828              [Slice of Life, Comedy, Supernatural]   \n",
       "10378                   [Slice of Life, Comedy, Shounen]   \n",
       "33082                                           [Action]   \n",
       "16934    [Comedy, Drama, Romance, School, Slice of Life]   \n",
       "\n",
       "                              aired  episodes  members  popularity  ranked  \\\n",
       "uid                                                                          \n",
       "28891   Oct 4, 2015 to Mar 27, 2016      25.0   489888         141    25.0   \n",
       "23273  Oct 10, 2014 to Mar 20, 2015      22.0   995473          28    24.0   \n",
       "34599   Jul 7, 2017 to Sep 29, 2017      13.0   581663          98    23.0   \n",
       "5114     Apr 5, 2009 to Jul 4, 2010      64.0  1615084           4     1.0   \n",
       "31758                   Jan 6, 2017       1.0   214621         502    22.0   \n",
       "...                             ...       ...      ...         ...     ...   \n",
       "10075                   Jan 1, 2011       1.0    34155        2382  1728.0   \n",
       "35828  Jan 12, 2018 to Mar 30, 2018      12.0    61459        1648  1727.0   \n",
       "10378  Sep 27, 2011 to Dec 25, 2011      12.0    67422        1547  1548.0   \n",
       "33082                   Jul 9, 2016       1.0    41077        2154  1544.0   \n",
       "16934                  Jun 19, 2013       1.0   128400         883  1533.0   \n",
       "\n",
       "       score                                            img_url  \\\n",
       "uid                                                               \n",
       "28891   8.82  https://cdn.myanimelist.net/images/anime/9/766...   \n",
       "23273   8.83  https://cdn.myanimelist.net/images/anime/3/671...   \n",
       "34599   8.83  https://cdn.myanimelist.net/images/anime/6/867...   \n",
       "5114    9.23  https://cdn.myanimelist.net/images/anime/1223/...   \n",
       "31758   8.83  https://cdn.myanimelist.net/images/anime/3/815...   \n",
       "...      ...                                                ...   \n",
       "10075   7.50  https://cdn.myanimelist.net/images/anime/3/304...   \n",
       "35828   7.50  https://cdn.myanimelist.net/images/anime/1486/...   \n",
       "10378   7.56  https://cdn.myanimelist.net/images/anime/6/301...   \n",
       "33082   7.56  https://cdn.myanimelist.net/images/anime/12/79...   \n",
       "16934   7.56  https://cdn.myanimelist.net/images/anime/7/455...   \n",
       "\n",
       "                                                    link  \n",
       "uid                                                       \n",
       "28891  https://myanimelist.net/anime/28891/Haikyuu_Se...  \n",
       "23273  https://myanimelist.net/anime/23273/Shigatsu_w...  \n",
       "34599  https://myanimelist.net/anime/34599/Made_in_Abyss  \n",
       "5114   https://myanimelist.net/anime/5114/Fullmetal_A...  \n",
       "31758  https://myanimelist.net/anime/31758/Kizumonoga...  \n",
       "...                                                  ...  \n",
       "10075    https://myanimelist.net/anime/10075/Naruto_x_UT  \n",
       "35828  https://myanimelist.net/anime/35828/Miira_no_K...  \n",
       "10378  https://myanimelist.net/anime/10378/Shinryaku_...  \n",
       "33082  https://myanimelist.net/anime/33082/Kingsglaiv...  \n",
       "16934  https://myanimelist.net/anime/16934/Chuunibyou...  \n",
       "\n",
       "[16216 rows x 11 columns]"
      ]
     },
     "execution_count": 83,
     "metadata": {},
     "output_type": "execute_result"
    }
   ],
   "source": [
    "animes"
   ]
  },
  {
   "cell_type": "markdown",
   "id": "e0033a64-6e4b-4cfd-bcc4-d62b5053a588",
   "metadata": {},
   "source": [
    "Como cada anime apresenta vários gêneros diferentes,\n",
    "\n",
    "1. as somas dos valores nessas novas colunas deve ter pelomenos que a quantidade de títulos assistidos,\n",
    "2. mas cada valor único deve ser menor ou igual à quantidade de títulos.\n",
    "\n",
    "Vamos usar isto para testar o nosso algorítmo nesta etapa do processamento de dados."
   ]
  },
  {
   "cell_type": "code",
   "execution_count": null,
   "id": "9f4e9571-2a63-417c-b404-b92e5359f4dc",
   "metadata": {},
   "outputs": [],
   "source": [
    "profiles[\"animes_watched\"] = profiles[\"favorites_anime\"].apply(lambda x: len(x) if x else 0)\n",
    "\n",
    "# first test:\n",
    "genres_sums = profiles[unique_genres].sum(axis=\"columns\")\n",
    "test_1_fails = (genres_sums < profiles[\"animes_watched\"])\n",
    "print(\"Amount of test 1 fails:\", np.sum(test_1_fails))\n",
    "\n",
    "# second test:\n"
   ]
  },
  {
   "cell_type": "code",
   "execution_count": null,
   "id": "a87dd2d7-e8d3-4c43-8a6d-1c59cd731a0a",
   "metadata": {},
   "outputs": [],
   "source": [
    "profiles.loc[\"aManOfCulture99\"]"
   ]
  },
  {
   "cell_type": "code",
   "execution_count": null,
   "id": "03d7531b-a1a9-45e3-ab23-5da319866eab",
   "metadata": {},
   "outputs": [],
   "source": [
    "print(*profiles.iloc[0][\"favorites_anime\"])"
   ]
  },
  {
   "cell_type": "code",
   "execution_count": null,
   "id": "679c60b6-63d7-446a-a415-14ccdc3e279d",
   "metadata": {
    "scrolled": true
   },
   "outputs": [],
   "source": [
    "profiles.iloc[0]"
   ]
  }
 ],
 "metadata": {
  "kernelspec": {
   "display_name": "Python 3 (ipykernel)",
   "language": "python",
   "name": "python3"
  },
  "language_info": {
   "codemirror_mode": {
    "name": "ipython",
    "version": 3
   },
   "file_extension": ".py",
   "mimetype": "text/x-python",
   "name": "python",
   "nbconvert_exporter": "python",
   "pygments_lexer": "ipython3",
   "version": "3.11.5"
  }
 },
 "nbformat": 4,
 "nbformat_minor": 5
}
